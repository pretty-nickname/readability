{
 "cells": [
  {
   "cell_type": "code",
   "execution_count": 1,
   "metadata": {
    "colab": {
     "base_uri": "https://localhost:8080/"
    },
    "id": "viscVI383dwc",
    "outputId": "ff73ded8-02a7-49dd-bc7a-aee7eae3360f"
   },
   "outputs": [
    {
     "name": "stdout",
     "output_type": "stream",
     "text": [
      "Mounted at /content/gdrive\n"
     ]
    }
   ],
   "source": [
    "from google.colab import drive\n",
    "drive.mount('/content/gdrive', force_remount=False)"
   ]
  },
  {
   "cell_type": "code",
   "execution_count": 2,
   "metadata": {
    "colab": {
     "base_uri": "https://localhost:8080/"
    },
    "id": "TZCvyFiy2vpr",
    "outputId": "d6cb471d-a556-4fe5-f9a5-198855c73d35"
   },
   "outputs": [
    {
     "name": "stdout",
     "output_type": "stream",
     "text": [
      "8045 1185 8045 1185\n"
     ]
    }
   ],
   "source": [
    "import pickle\n",
    "\n",
    "with open('/content/gdrive/MyDrive/fiction_previews/train_preprocessed_fiction_recommended.pickle', 'rb') as f:\n",
    "  train_preprocessed = pickle.load(f)\n",
    "with open('/content/gdrive/MyDrive/fiction_previews/test_preprocessed_fiction_recommended.pickle', 'rb') as f:\n",
    "  test_preprocessed = pickle.load(f)\n",
    "with open('/content/gdrive/MyDrive/fiction_previews/train_labels_fiction_recommended.pickle', 'rb') as f:\n",
    "  train_labels = pickle.load(f)\n",
    "with open('/content/gdrive/MyDrive/fiction_previews/test_labels_fiction_recommended.pickle', 'rb') as f:\n",
    "  test_labels = pickle.load(f)\n",
    "\n",
    "print(len(train_preprocessed), len(test_preprocessed), len(train_labels), len(test_labels))"
   ]
  },
  {
   "cell_type": "code",
   "execution_count": 3,
   "metadata": {
    "id": "QlWXQcJa3bDK"
   },
   "outputs": [],
   "source": [
    "from sklearn.feature_extraction.text import CountVectorizer\n",
    "\n",
    "vectorizer = CountVectorizer(max_features = 10000)\n",
    "X = vectorizer.fit_transform(train_preprocessed)\n",
    "X1 = vectorizer.transform(test_preprocessed)"
   ]
  },
  {
   "cell_type": "code",
   "execution_count": 4,
   "metadata": {
    "colab": {
     "base_uri": "https://localhost:8080/"
    },
    "id": "01hutUGz3lj0",
    "outputId": "837924aa-620d-47c1-c156-f92f30483d4e"
   },
   "outputs": [
    {
     "name": "stdout",
     "output_type": "stream",
     "text": [
      "0.5611121232475431\n",
      "0.5652571720901572\n",
      "0.5772151898734177\n"
     ]
    },
    {
     "name": "stderr",
     "output_type": "stream",
     "text": [
      "/usr/local/lib/python3.7/dist-packages/sklearn/svm/_base.py:947: ConvergenceWarning: Liblinear failed to converge, increase the number of iterations.\n",
      "  \"the number of iterations.\", ConvergenceWarning)\n"
     ]
    }
   ],
   "source": [
    "from sklearn.svm import LinearSVC\n",
    "from sklearn.metrics import f1_score, precision_score, recall_score\n",
    "\n",
    "clf = LinearSVC(random_state=0)\n",
    "clf.fit(X, train_labels)\n",
    "result = clf.predict(X1)\n",
    "\n",
    "print(f1_score(test_labels, result, average='weighted'))\n",
    "print(precision_score(test_labels, result, average='weighted'))\n",
    "print(recall_score(test_labels, result, average='weighted'))"
   ]
  },
  {
   "cell_type": "code",
   "execution_count": 5,
   "metadata": {
    "colab": {
     "base_uri": "https://localhost:8080/"
    },
    "id": "5JnSTtVH3u5C",
    "outputId": "92d4ebf2-0726-4ef9-fe54-912a36d5e81c"
   },
   "outputs": [
    {
     "name": "stdout",
     "output_type": "stream",
     "text": [
      "0.4825459487257807\n",
      "0.6223503165270182\n",
      "0.6\n"
     ]
    }
   ],
   "source": [
    "from sklearn.ensemble import RandomForestClassifier\n",
    "\n",
    "clf = RandomForestClassifier(random_state=0)\n",
    "clf.fit(X, train_labels)\n",
    "result = clf.predict(X1)\n",
    "\n",
    "print(f1_score(test_labels, result, average='weighted'))\n",
    "print(precision_score(test_labels, result, average='weighted'))\n",
    "print(recall_score(test_labels, result, average='weighted'))"
   ]
  }
 ],
 "metadata": {
  "colab": {
   "collapsed_sections": [],
   "name": "SVC_RF_baselines.ipynb",
   "provenance": []
  },
  "kernelspec": {
   "display_name": "Python 3",
   "language": "python",
   "name": "python3"
  },
  "language_info": {
   "codemirror_mode": {
    "name": "ipython",
    "version": 3
   },
   "file_extension": ".py",
   "mimetype": "text/x-python",
   "name": "python",
   "nbconvert_exporter": "python",
   "pygments_lexer": "ipython3",
   "version": "3.8.10"
  }
 },
 "nbformat": 4,
 "nbformat_minor": 1
}
