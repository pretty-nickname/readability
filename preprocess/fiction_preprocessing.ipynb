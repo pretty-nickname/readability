{
 "cells": [
  {
   "cell_type": "code",
   "execution_count": null,
   "metadata": {
    "id": "WGkAcNA-_oA-"
   },
   "outputs": [],
   "source": [
    "from google.colab import drive\n",
    "drive.mount('/content/gdrive', force_remount=False)\n",
    "import os"
   ]
  },
  {
   "cell_type": "code",
   "execution_count": null,
   "metadata": {
    "id": "C_eoT391_rpq"
   },
   "outputs": [],
   "source": [
    "dir_path = \"\"\n",
    "files = os.listdir(dir_path)\n",
    "len(files)"
   ]
  },
  {
   "cell_type": "code",
   "execution_count": null,
   "metadata": {
    "id": "ypkr4lEz_uSV"
   },
   "outputs": [],
   "source": [
    "!pip install pymorphy2\n",
    "import pymorphy2, re\n",
    "ma = pymorphy2.MorphAnalyzer()\n",
    "\n",
    "import nltk\n",
    "nltk.download('stopwords')\n",
    "from nltk.corpus import stopwords\n",
    "stops = set(stopwords.words('russian'))\n",
    "\n",
    "\n",
    "def clean_text(text):\n",
    "    text = text.replace(\"\\\\\", \" \").replace(u\"╚\", \" \").replace(u\"╩\", \" \").replace(\"«\", '').replace(\"»\", '').replace(\"…\", '')\n",
    "    text = text.lower()\n",
    "    text = re.sub('\\-\\s\\r\\n\\s{1,}|\\-\\s\\r\\n|\\r\\n', '', text) \n",
    "    text = re.sub('[.,:;<>_%©?–*,!@#$%^&()\\d]|[+=]|[[]|[]]|[/]|\"|\\s{2,}|-', ' ', text)\n",
    "    text = \" \".join(ma.parse(word)[0].normal_form for word in text.split())\n",
    "    new_text = []\n",
    "    for word in text.split():\n",
    "      if word not in stops:\n",
    "        new_text.append(word)\n",
    "    return ' '.join(new_text)"
   ]
  },
  {
   "cell_type": "code",
   "execution_count": null,
   "metadata": {
    "id": "bKwV8ZeN_-HX"
   },
   "outputs": [],
   "source": [
    "import pickle\n",
    "path = \"\"\n",
    "\n",
    "train_preprocessed = []\n",
    "\n",
    "for i, f in enumerate(files):\n",
    "  if i%1000 == 0:\n",
    "    print(i)\n",
    "  with open(path + f) as f1:\n",
    "      content = f1.read()\n",
    "\n",
    "  content = clean_text(content)\n",
    "  train_preprocessed.append(content)\n",
    "\n",
    "with open('/content/gdrive/MyDrive/fiction_previews/train_preprocessed.pickle', 'wb') as f:\n",
    "  pickle.dump(train_preprocessed, f)"
   ]
  }
 ],
 "metadata": {
  "colab": {
   "collapsed_sections": [],
   "name": "fiction_preprocessing.ipynb",
   "provenance": []
  },
  "kernelspec": {
   "display_name": "Python 3",
   "language": "python",
   "name": "python3"
  },
  "language_info": {
   "codemirror_mode": {
    "name": "ipython",
    "version": 3
   },
   "file_extension": ".py",
   "mimetype": "text/x-python",
   "name": "python",
   "nbconvert_exporter": "python",
   "pygments_lexer": "ipython3",
   "version": "3.8.10"
  }
 },
 "nbformat": 4,
 "nbformat_minor": 1
}
